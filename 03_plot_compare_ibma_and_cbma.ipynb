{
  "cells": [
    {
      "cell_type": "code",
      "execution_count": null,
      "metadata": {
        "collapsed": false
      },
      "outputs": [],
      "source": [
        "%matplotlib inline"
      ]
    },
    {
      "cell_type": "markdown",
      "metadata": {},
      "source": [
        "\n\n# Compare image and coordinate based meta-analyses\n\nRun IBMAs and CBMAs on a toy dataset, then compare the results qualitatively.\n\nCollection of NIDM-Results packs downloaded from Neurovault collection 1425,\nuploaded by Dr. Camille Maumet.\n"
      ]
    },
    {
      "cell_type": "code",
      "execution_count": null,
      "metadata": {
        "collapsed": false
      },
      "outputs": [],
      "source": [
        "import os\n\nimport pandas as pd\nfrom nilearn.plotting import plot_stat_map\n\nfrom nimare.dataset import Dataset\nfrom nimare.extract import download_nidm_pain\nfrom nimare.meta.cbma import ALE\nfrom nimare.meta.ibma import DerSimonianLaird\nfrom nimare.transforms import ImagesToCoordinates, ImageTransformer\nfrom nimare.utils import get_resource_path"
      ]
    },
    {
      "cell_type": "markdown",
      "metadata": {},
      "source": [
        "## Download data\n\n"
      ]
    },
    {
      "cell_type": "code",
      "execution_count": null,
      "metadata": {
        "collapsed": false
      },
      "outputs": [],
      "source": [
        "dset_dir = download_nidm_pain()"
      ]
    },
    {
      "cell_type": "markdown",
      "metadata": {},
      "source": [
        "## Load Dataset\n\n"
      ]
    },
    {
      "cell_type": "code",
      "execution_count": null,
      "metadata": {
        "collapsed": false
      },
      "outputs": [],
      "source": [
        "dset_file = os.path.join(get_resource_path(), \"nidm_pain_dset.json\")\ndset = Dataset(dset_file)\ndset.update_path(dset_dir)\n\n# Calculate missing statistical images from the available stats.\nxformer = ImageTransformer(target=[\"z\", \"varcope\"])\ndset = xformer.transform(dset)\n\n# create coordinates from statistical maps\ncoord_gen = ImagesToCoordinates(merge_strategy=\"replace\")\ndset = coord_gen.transform(dset)"
      ]
    },
    {
      "cell_type": "markdown",
      "metadata": {},
      "source": [
        "## ALE (CBMA)\n\n"
      ]
    },
    {
      "cell_type": "code",
      "execution_count": null,
      "metadata": {
        "collapsed": false
      },
      "outputs": [],
      "source": [
        "meta_cbma = ALE()\nmeta_cbma.fit(dset)\nplot_stat_map(\n    meta_cbma.results.get_map(\"z\"), cut_coords=[0, 0, -8], draw_cross=False, cmap=\"RdBu_r\"\n)"
      ]
    },
    {
      "cell_type": "markdown",
      "metadata": {},
      "source": [
        "## DerSimonian-Laird (IBMA)\nWe must resample the image data to the same MNI template as the Dataset.\n\n"
      ]
    },
    {
      "cell_type": "code",
      "execution_count": null,
      "metadata": {
        "collapsed": false
      },
      "outputs": [],
      "source": [
        "meta_ibma = DerSimonianLaird(resample=True)\nmeta_ibma.fit(dset)\nplot_stat_map(\n    meta_ibma.results.get_map(\"z\"), cut_coords=[0, 0, -8], draw_cross=False, cmap=\"RdBu_r\"\n)"
      ]
    },
    {
      "cell_type": "markdown",
      "metadata": {},
      "source": [
        "## Compare CBMA and IBMA Z-maps\n\n"
      ]
    },
    {
      "cell_type": "code",
      "execution_count": null,
      "metadata": {
        "collapsed": false
      },
      "outputs": [],
      "source": [
        "stat_df = pd.DataFrame(\n    {\n        \"CBMA\": meta_cbma.results.get_map(\"z\", return_type=\"array\"),\n        \"IBMA\": meta_ibma.results.get_map(\"z\", return_type=\"array\").squeeze(),\n    }\n)\nprint(stat_df.corr())"
      ]
    }
  ],
  "metadata": {
    "kernelspec": {
      "display_name": "Python 3",
      "language": "python",
      "name": "python3"
    },
    "language_info": {
      "codemirror_mode": {
        "name": "ipython",
        "version": 3
      },
      "file_extension": ".py",
      "mimetype": "text/x-python",
      "name": "python",
      "nbconvert_exporter": "python",
      "pygments_lexer": "ipython3",
      "version": "3.7.9"
    }
  },
  "nbformat": 4,
  "nbformat_minor": 0
}